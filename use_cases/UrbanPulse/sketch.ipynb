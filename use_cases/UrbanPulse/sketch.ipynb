{
 "cells": [
  {
   "cell_type": "code",
   "execution_count": null,
   "metadata": {},
   "outputs": [
    {
     "name": "stdout",
     "output_type": "stream",
     "text": [
      "     fnRank  sigRank\n",
      "0  1.000000      1.0\n",
      "1  0.849920      1.0\n",
      "2  0.640006      1.0\n",
      "3  0.450896      1.0\n",
      "4  0.373821      1.0\n"
     ]
    }
   ],
   "source": [
    "# Data loading (features)\n",
    "\n",
    "import pandas as pd\n",
    "import json\n",
    "\n",
    "json_features_file = open(\"flickr-spring-features.json\")\n",
    "\n",
    "parsed_json_features = json.load(json_features_file)\n",
    "\n",
    "df_scatterplot = pd.json_normalize(parsed_json_features[\"features\"])\n",
    "# df_scatterplot = df_scatterplot[[\"latLng\", \"resolutions.ALL.fnRank\", \"resolutions.ALL.sigRank\"]]\n",
    "df_scatterplot = df_scatterplot[[\"resolutions.ALL.fnRank\", \"resolutions.ALL.sigRank\"]]\n",
    "df_scatterplot = df_scatterplot.rename(columns={\"resolutions.ALL.fnRank\": \"fnRank\", \"resolutions.ALL.sigRank\": \"sigRank\"})\n",
    "\n",
    "df_scatterplot = df_scatterplot.dropna(subset=[\"fnRank\"])\n",
    "df_scatterplot = df_scatterplot.dropna(subset=[\"sigRank\"])\n",
    "\n",
    "return df_scatterplot\n"
   ]
  },
  {
   "cell_type": "code",
   "execution_count": null,
   "metadata": {},
   "outputs": [],
   "source": [
    "# Vega-Lite\n",
    "\n",
    "{ \n",
    "  \"$schema\": \"https://vega.github.io/schema/vega-lite/v5.json\", \n",
    "  \"params\": [ {\"name\": \"clickSelect\", \"select\": \"interval\"} ], \n",
    "  \"mark\": { \"type\": \"point\", \"cursor\": \"pointer\" }, \n",
    "  \"encoding\": { \n",
    "    \"x\": {\"field\": \"sigRank\", \"type\": \"quantitative\"},\n",
    "    \"y\": {\"field\": \"fnRank\", \"type\": \"quantitative\"}, \n",
    "    \"fillOpacity\": { \n",
    "        \"condition\": {\"param\": \"clickSelect\", \"value\": 1}, \n",
    "        \"value\": 0.3 \n",
    "    }, \n",
    "    \"color\": { \n",
    "      \"field\": \"interacted\", \n",
    "      \"type\": \"nominal\", \n",
    "      \"condition\": {\n",
    "        \"test\": \"datum.interacted === '1'\", \"value\": \"red\", \"else\": \"blue\"} } \n",
    "  }, \n",
    "  \"config\": { \"scale\": { \"bandPaddingInner\": 0.2 } } \n",
    "} \n",
    "\n"
   ]
  }
 ],
 "metadata": {
  "kernelspec": {
   "display_name": "curio-backend",
   "language": "python",
   "name": "python3"
  },
  "language_info": {
   "codemirror_mode": {
    "name": "ipython",
    "version": 3
   },
   "file_extension": ".py",
   "mimetype": "text/x-python",
   "name": "python",
   "nbconvert_exporter": "python",
   "pygments_lexer": "ipython3",
   "version": "3.10.6"
  }
 },
 "nbformat": 4,
 "nbformat_minor": 2
}
