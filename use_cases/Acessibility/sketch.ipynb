{
 "cells": [
  {
   "cell_type": "code",
   "execution_count": null,
   "metadata": {},
   "outputs": [
    {
     "name": "stdout",
     "output_type": "stream",
     "text": [
      "   Attribute ID Label Type  Street ID  OSM Street ID Neighborhood Name  \\\n",
      "0     113759394   CurbRamp      14809       98239825     Harbor Island   \n",
      "1     113759395   CurbRamp      14826       98239858     Harbor Island   \n",
      "2     113759396   CurbRamp      14809       98239825     Harbor Island   \n",
      "3     113759397   CurbRamp      14809       98239825     Harbor Island   \n",
      "4     113759398   CurbRamp      14826       98239858     Harbor Island   \n",
      "\n",
      "   Attribute Latitude  Attribute Longitude Avg Image Capture Date  \\\n",
      "0           47.572360          -122.352356  2017-08-31 17:00:00.0   \n",
      "1           47.572952          -122.354095  2017-08-31 17:00:00.0   \n",
      "2           47.572840          -122.352940  2017-08-31 17:00:00.0   \n",
      "3           47.572910          -122.353020  2016-01-15 16:00:00.0   \n",
      "4           47.574500          -122.355390  2017-08-31 17:00:00.0   \n",
      "\n",
      "             Avg Label Date  Severity  Temporary  Agree Count  Disagree Count  \\\n",
      "0   2019-04-21 17:58:33.914       2.0      False            1               0   \n",
      "1   2019-04-25 19:03:04.038       2.0      False            1               0   \n",
      "2    2019-04-26 04:45:42.88       3.0      False            2               0   \n",
      "3  2019-04-26 04:45:33.6425       3.0      False            3               0   \n",
      "4   2019-04-26 04:36:21.207       2.0      False            1               0   \n",
      "\n",
      "   Unsure Count  Cluster Size  \\\n",
      "0             0             2   \n",
      "1             0             1   \n",
      "2             0             2   \n",
      "3             0             2   \n",
      "4             1             1   \n",
      "\n",
      "                                            User IDs  \n",
      "0  [939b6faa-0b57-4160-bcc2-d11fd2b69d9f,cea9e332...  \n",
      "1             [8ae9f0fc-e33f-435a-bfae-3d43316ddc69]  \n",
      "2  [8ae9f0fc-e33f-435a-bfae-3d43316ddc69,939b6faa...  \n",
      "3  [939b6faa-0b57-4160-bcc2-d11fd2b69d9f,8ae9f0fc...  \n",
      "4  [8ae9f0fc-e33f-435a-bfae-3d43316ddc69,939b6faa...  \n"
     ]
    }
   ],
   "source": [
    "#Load box (Points)\n",
    "\n",
    "import pandas as pd\n",
    "\n",
    "df_point = pd.read_csv(\"access_attributes.csv\")\n",
    "\n",
    "return df_point"
   ]
  },
  {
   "cell_type": "code",
   "execution_count": null,
   "metadata": {},
   "outputs": [
    {
     "name": "stderr",
     "output_type": "stream",
     "text": [
      "C:\\Users\\Gustavo\\AppData\\Local\\Temp\\ipykernel_24264\\1050032615.py:20: SettingWithCopyWarning: \n",
      "A value is trying to be set on a copy of a slice from a DataFrame.\n",
      "Try using .loc[row_indexer,col_indexer] = value instead\n",
      "\n",
      "See the caveats in the documentation: https://pandas.pydata.org/pandas-docs/stable/user_guide/indexing.html#returning-a-view-versus-a-copy\n",
      "  df_point_filtered[\"Label Type\"] = df_point_filtered[\"Label Type\"].fillna(\"Other\")\n",
      "c:\\Users\\Gustavo\\miniforge3\\envs\\utci\\lib\\site-packages\\pandas\\core\\dtypes\\cast.py:131: ShapelyDeprecationWarning: The array interface is deprecated and will no longer work in Shapely 2.0. Convert the '.coords' to a numpy array instead.\n",
      "  arr = construct_1d_object_array_from_listlike(values)\n"
     ]
    },
    {
     "data": {
      "text/plain": [
       "<Axes: >"
      ]
     },
     "execution_count": 3,
     "metadata": {},
     "output_type": "execute_result"
    },
    {
     "data": {
      "image/png": "[encoded data removed]",
      "text/plain": [
       "<Figure size 640x480 with 1 Axes>"
      ]
     },
     "metadata": {},
     "output_type": "display_data"
    }
   ],
   "source": [
    "# Data cleaning (Points)\n",
    "\n",
    "# Widgets: filter points according to the problem type (LabelType) ['CurbRamp' 'NoSidewalk' 'SurfaceProblem' 'Obstacle' 'Occlusion' 'Other', 'NoCurbRamp' 'Crosswalk' 'Signal']\n",
    "\n",
    "# Columns to keep:\n",
    "#  - Label Type\n",
    "#  - Attribute Latitude\n",
    "#  - Attribute Longitude \n",
    "#  - Agree count\n",
    "#  - Disagree count\n",
    "#  - Unsure count\n",
    "\n",
    "import pandas as pd\n",
    "import geopandas as gpd\n",
    "from shapely.geometry import Point\n",
    "\n",
    "df_point = arg\n",
    "\n",
    "columns_to_keep = [\"Label Type\", \"Attribute Latitude\", \"Attribute Longitude\", \"Agree Count\", \"Disagree Count\", \"Unsure Count\"]\n",
    "df_point_filtered = df_point[columns_to_keep]\n",
    "\n",
    "df_point_filtered[\"Label Type\"] = df_point_filtered[\"Label Type\"].fillna(\"Other\")\n",
    "df_point_filtered = df_point_filtered.dropna(subset=[\"Attribute Latitude\"])\n",
    "df_point_filtered = df_point_filtered.dropna(subset=[\"Attribute Longitude\"])\n",
    "df_point_filtered[\"Agree Count\"] = df_point_filtered[\"Agree Count\"].fillna(0)\n",
    "df_point_filtered[\"Disagree Count\"] = df_point_filtered[\"Disagree Count\"].fillna(0)\n",
    "df_point_filtered[\"Unsure Count\"] = df_point_filtered[\"Unsure Count\"].fillna(0)\n",
    "\n",
    "df_point_filtered = df_point_filtered.rename(columns={\"Label Type\": \"label\"})\n",
    "df_point_filtered = df_point_filtered.rename(columns={\"Attribute Latitude\": \"latitude\"})\n",
    "df_point_filtered = df_point_filtered.rename(columns={\"Attribute Longitude\": \"longitude\"})\n",
    "df_point_filtered = df_point_filtered.rename(columns={\"Agree Count\": \"agree\"})\n",
    "df_point_filtered = df_point_filtered.rename(columns={\"Disagree Count\": \"disagree\"})\n",
    "df_point_filtered = df_point_filtered.rename(columns={\"Unsure Count\": \"unsure\"})\n",
    "\n",
    "df_point_filtered[\"geometry\"] = df_point_filtered.apply(lambda row: Point(row[\"longitude\"], row[\"latitude\"]), axis=1)\n",
    "\n",
    "gdf_point = gpd.GeoDataFrame(df_point_filtered, geometry=\"geometry\", crs=\"EPSG:4326\")\n",
    "\n",
    "return gdf_point"
   ]
  },
  {
   "cell_type": "code",
   "execution_count": null,
   "metadata": {},
   "outputs": [],
   "source": [
    "# Computation Analysis - Uncertainty score (Points)\n",
    "\n",
    "gdf_point = arg.set_crs(4326)\n",
    "gdf_point = gdf_point.to_crs(3395)\n",
    "\n",
    "gdf_point[\"total_votes\"] = gdf_point[\"agree\"] + gdf_point[\"disagree\"] + gdf_point[\"unsure\"]\n",
    "\n",
    "gdf_point['total_votes'] = gdf_point['total_votes'].replace(0, 1)\n",
    "\n",
    "gdf_point[\"uncertainty\"] = (abs(gdf_point[\"disagree\"] - gdf_point[\"agree\"]) + gdf_point[\"unsure\"]) / gdf_point[\"total_votes\"]\n",
    "\n",
    "gdf_point = gdf_point[[\"uncertainty\", \"geometry\"]]\n",
    "\n",
    "gdf_point.metadata = {\n",
    " 'name': 'ponctual'\n",
    "}\n",
    "\n",
    "return gdf_point"
   ]
  },
  {
   "cell_type": "code",
   "execution_count": null,
   "metadata": {},
   "outputs": [],
   "source": [
    "# Data pool (connected to gdf_point)"
   ]
  },
  {
   "cell_type": "code",
   "execution_count": null,
   "metadata": {},
   "outputs": [],
   "source": [
    "# Load box (Neighborhood)\n",
    "\n",
    "import geopandas as gpd\n",
    "\n",
    "gdf_neighborhood = gpd.read_file(\"access_score_neighborhood.geojson\")[[\"coverage\", \"avg_attribute_count\", \"geometry\"]]\n",
    "\n",
    "return gdf_neighborhood"
   ]
  },
  {
   "cell_type": "code",
   "execution_count": null,
   "metadata": {},
   "outputs": [],
   "source": [
    "# Data cleaning (Neighborhood)\n",
    "\n",
    "# Columns to keep:\n",
    "#  - coverage\n",
    "#  - CurbRamp\n",
    "#  - NoCurbRamp\n",
    "#  - Obstacle\n",
    "#  - SurfaceProblem\n",
    "\n",
    "import geopandas as gpd\n",
    "\n",
    "gdf_neighborhood = arg\n",
    "\n",
    "gdf_neighborhood = gdf_neighborhood.join(pd.json_normalize(gdf_neighborhood[\"avg_attribute_count\"])).drop(columns=[\"avg_attribute_count\"])\n",
    "\n",
    "# columns_to_keep = [\"coverage\", \"CurbRamp\", \"NoCurbRamp\", \"Obstacle\", \"SurfaceProblem\", \"geometry\"]\n",
    "# gdf_neighborhood = gdf_neighborhood[columns_to_keep]\n",
    "\n",
    "gdf_neighborhood = gdf_neighborhood.dropna(subset=[\"coverage\"])\n",
    "gdf_neighborhood = gdf_neighborhood.dropna(subset=[\"geometry\"])\n",
    "gdf_neighborhood[\"CurbRamp\"] = gdf_neighborhood[\"CurbRamp\"].fillna(0)\n",
    "gdf_neighborhood[\"NoCurbRamp\"] = gdf_neighborhood[\"NoCurbRamp\"].fillna(0)\n",
    "gdf_neighborhood[\"Obstacle\"] = gdf_neighborhood[\"Obstacle\"].fillna(0)\n",
    "gdf_neighborhood[\"SurfaceProblem\"] = gdf_neighborhood[\"SurfaceProblem\"].fillna(0)\n",
    "\n",
    "return gdf_neighborhood"
   ]
  },
  {
   "cell_type": "code",
   "execution_count": null,
   "metadata": {},
   "outputs": [],
   "source": [
    "# Computation Analysis - Acessibility score (Neighborhood)\n",
    "\n",
    "# Widget: to change w_noCurb, w_obstacle, w_surfaceProblem, w_curb\n",
    "\n",
    "# This accessibility is relative to other neighborhoods\n",
    "\n",
    "import numpy as np\n",
    "\n",
    "gdf_neighborhood = arg.set_crs(4326)\n",
    "gdf_neighborhood = gdf_neighborhood.to_crs(3395)\n",
    "\n",
    "w_noCurb = 1\n",
    "w_obstacle = 1\n",
    "w_surfaceProblem = 1\n",
    "w_curb = 1\n",
    "\n",
    "numerator = (w_noCurb * gdf_neighborhood[\"NoCurbRamp\"] + \n",
    "             w_obstacle * gdf_neighborhood[\"Obstacle\"] + \n",
    "             w_surfaceProblem * gdf_neighborhood[\"SurfaceProblem\"])\n",
    "\n",
    "denominator = w_curb * gdf_neighborhood[\"CurbRamp\"]\n",
    "\n",
    "gdf_neighborhood[\"accessibility\"] = np.where(\n",
    "    denominator == 0, \n",
    "    0, \n",
    "    numerator / denominator\n",
    ")\n",
    "\n",
    "# gdf_neighborhood[\"accessibility\"] = (w_noCurb * gdf_neighborhood[\"NoCurbRamp\"] + w_obstacle * gdf_neighborhood[\"Obstacle\"] + w_surfaceProblem * gdf_neighborhood[\"SurfaceProblem\"]) / (w_curb * gdf_neighborhood[\"CurbRamp\"])\n",
    "\n",
    "min_val = gdf_neighborhood[\"accessibility\"].min()\n",
    "max_val = gdf_neighborhood[\"accessibility\"].max()\n",
    "\n",
    "denominator = max_val - min_val\n",
    "\n",
    "if denominator == 0:\n",
    "    gdf_neighborhood[\"accessibility\"] = 0  # Set a default value\n",
    "else:\n",
    "    gdf_neighborhood[\"accessibility\"] = (gdf_neighborhood[\"accessibility\"] - min_val) / denominator\n",
    "\n",
    "\n",
    "# gdf_neighborhood[\"accessibility\"] = (gdf_neighborhood[\"accessibility\"] - gdf_neighborhood[\"accessibility\"].min()) / (gdf_neighborhood[\"accessibility\"].max() - gdf_neighborhood[\"accessibility\"].min())\n",
    "\n",
    "gdf_neighborhood = gdf_neighborhood[[\"geometry\", \"accessibility\"]]\n",
    "\n",
    "gdf_neighborhood.metadata = {\n",
    " 'name': 'neighborhood'\n",
    "}\n",
    "\n",
    "return gdf_neighborhood\n",
    "    "
   ]
  },
  {
   "cell_type": "code",
   "execution_count": null,
   "metadata": {},
   "outputs": [],
   "source": [
    "\n",
    "# Data pool (connected to gdf_neighborhood)"
   ]
  },
  {
   "cell_type": "code",
   "execution_count": null,
   "metadata": {},
   "outputs": [],
   "source": [
    "# UTK (connected to gdf_neighborhood)"
   ]
  },
  {
   "cell_type": "code",
   "execution_count": null,
   "metadata": {},
   "outputs": [],
   "source": [
    "# Merge Flow of uncertainty score (points) and acessiblity score (neighborhood)"
   ]
  },
  {
   "cell_type": "code",
   "execution_count": null,
   "metadata": {},
   "outputs": [],
   "source": [
    "# Data tranformation (connect to previous Merge Flow)\n",
    "\n",
    "# Group point uncertainty score into neighborhood\n",
    "\n",
    "import geopandas as gpd\n",
    "\n",
    "gdf_point = arg[0].set_crs(3395)\n",
    "gdf_neighborhood = arg[1].set_crs(3395)\n",
    "\n",
    "gdf_point = gdf_point.to_crs(gdf_neighborhood.crs)\n",
    "\n",
    "gdf_neighborhood[\"neighborhood_id\"] = gdf_neighborhood.index \n",
    "\n",
    "gdf_joined = gpd.sjoin(gdf_point, gdf_neighborhood, predicate=\"within\")\n",
    "\n",
    "df_aggregated = gdf_joined.groupby(\"neighborhood_id\")[\"uncertainty\"].mean().reset_index()\n",
    "\n",
    "gdf_neighborhood_aggregated = gdf_neighborhood.merge(df_aggregated, on=\"neighborhood_id\", how=\"left\")\n",
    "\n",
    "gdf_neighborhood_aggregated[\"uncertainty\"] = gdf_neighborhood_aggregated[\"uncertainty\"].fillna(0)\n",
    "\n",
    "gdf_neighborhood_aggregated = gdf_neighborhood_aggregated[[\"geometry\", \"uncertainty\"]]\n",
    "\n",
    "gdf_neighborhood_aggregated.metadata = {\n",
    " 'name': 'neighborhood'\n",
    "}\n",
    "\n",
    "return gdf_neighborhood_aggregated\n"
   ]
  },
  {
   "cell_type": "code",
   "execution_count": null,
   "metadata": {},
   "outputs": [],
   "source": [
    "# UTK (connected to gdf_neighborhood_aggregated) "
   ]
  },
  {
   "cell_type": "code",
   "execution_count": null,
   "metadata": {},
   "outputs": [
    {
     "name": "stderr",
     "output_type": "stream",
     "text": [
      "c:\\Users\\gugum\\miniforge3\\envs\\curio-sandbox-frontend\\lib\\site-packages\\geopandas\\_compat.py:124: UserWarning: The Shapely GEOS version (3.10.3-CAPI-1.16.1) is incompatible with the GEOS version PyGEOS was compiled with (3.10.4-CAPI-1.16.2). Conversions between both will be slow.\n",
      "  warnings.warn(\n"
     ]
    },
    {
     "name": "stdout",
     "output_type": "stream",
     "text": [
      "Index(['street_edge_id', 'osm_id', 'neighborhood_id', 'score', 'audit_count',\n",
      "       'avg_image_capture_date', 'avg_label_date', 'significance',\n",
      "       'attribute_count', 'geometry'],\n",
      "      dtype='object')\n"
     ]
    },
    {
     "name": "stderr",
     "output_type": "stream",
     "text": [
      "c:\\Users\\gugum\\miniforge3\\envs\\curio-sandbox-frontend\\lib\\site-packages\\geopandas\\io\\file.py:383: FutureWarning: errors='ignore' is deprecated and will raise in a future version. Use to_datetime without passing `errors` and catch exceptions explicitly instead\n",
      "  as_dt = pd.to_datetime(df[k], errors=\"ignore\")\n",
      "c:\\Users\\gugum\\miniforge3\\envs\\curio-sandbox-frontend\\lib\\site-packages\\geopandas\\io\\file.py:387: FutureWarning: errors='ignore' is deprecated and will raise in a future version. Use to_datetime without passing `errors` and catch exceptions explicitly instead\n",
      "  as_dt = pd.to_datetime(df[k], errors=\"ignore\", utc=True)\n",
      "c:\\Users\\gugum\\miniforge3\\envs\\curio-sandbox-frontend\\lib\\site-packages\\geopandas\\io\\file.py:383: FutureWarning: errors='ignore' is deprecated and will raise in a future version. Use to_datetime without passing `errors` and catch exceptions explicitly instead\n",
      "  as_dt = pd.to_datetime(df[k], errors=\"ignore\")\n",
      "c:\\Users\\gugum\\miniforge3\\envs\\curio-sandbox-frontend\\lib\\site-packages\\geopandas\\io\\file.py:387: FutureWarning: errors='ignore' is deprecated and will raise in a future version. Use to_datetime without passing `errors` and catch exceptions explicitly instead\n",
      "  as_dt = pd.to_datetime(df[k], errors=\"ignore\", utc=True)\n"
     ]
    }
   ],
   "source": [
    "# Data load (streets)\n",
    "\n",
    "import geopandas as gpd\n",
    "\n",
    "gdf_streets = gpd.read_file(\"access_score_streets.geojson\")[[\"attribute_count\", \"geometry\"]]\n",
    "\n",
    "return gdf_streets"
   ]
  },
  {
   "cell_type": "code",
   "execution_count": null,
   "metadata": {},
   "outputs": [],
   "source": [
    "# Data cleaning (streets)\n",
    "\n",
    "import geopandas as gpd\n",
    "\n",
    "gdf_streets = arg\n",
    "\n",
    "gdf_streets = gdf_streets.join(pd.json_normalize(gdf_streets[\"attribute_count\"])).drop(columns=[\"attribute_count\"])\n",
    "\n",
    "gdf_streets = gdf_streets.dropna(subset=[\"geometry\"])\n",
    "gdf_streets[\"CurbRamp\"] = gdf_streets[\"CurbRamp\"].fillna(0)\n",
    "gdf_streets[\"NoCurbRamp\"] = gdf_streets[\"NoCurbRamp\"].fillna(0)\n",
    "gdf_streets[\"Obstacle\"] = gdf_streets[\"Obstacle\"].fillna(0)\n",
    "gdf_streets[\"SurfaceProblem\"] = gdf_streets[\"SurfaceProblem\"].fillna(0)\n",
    "\n",
    "return gdf_streets"
   ]
  },
  {
   "cell_type": "code",
   "execution_count": null,
   "metadata": {},
   "outputs": [],
   "source": [
    "# Computation Analysis - Acessibility score (Streets)\n",
    "\n",
    "import numpy as np\n",
    "\n",
    "gdf_streets = arg.set_crs(4326)\n",
    "gdf_streets = gdf_streets.to_crs(3395)\n",
    "\n",
    "w_noCurb = 1\n",
    "w_obstacle = 1\n",
    "w_surfaceProblem = 1\n",
    "w_curb = 1\n",
    "\n",
    "numerator = (w_noCurb * gdf_streets[\"NoCurbRamp\"] + \n",
    "             w_obstacle * gdf_streets[\"Obstacle\"] + \n",
    "             w_surfaceProblem * gdf_streets[\"SurfaceProblem\"])\n",
    "\n",
    "denominator = w_curb * gdf_streets[\"CurbRamp\"]\n",
    "\n",
    "gdf_streets[\"accessibility\"] = np.where(\n",
    "    denominator == 0, \n",
    "    0, \n",
    "    numerator / denominator\n",
    ")\n",
    "\n",
    "# gdf_streets[\"accessibility\"] = (w_noCurb * gdf_streets[\"NoCurbRamp\"] + w_obstacle * gdf_streets[\"Obstacle\"] + w_surfaceProblem * gdf_streets[\"SurfaceProblem\"]) / (w_curb * gdf_streets[\"CurbRamp\"])\n",
    "\n",
    "min_val = gdf_streets[\"accessibility\"].min()\n",
    "max_val = gdf_streets[\"accessibility\"].max()\n",
    "\n",
    "denominator = max_val - min_val\n",
    "\n",
    "if denominator == 0:\n",
    "    gdf_streets[\"accessibility\"] = 0  # Set a default value\n",
    "else:\n",
    "    gdf_streets[\"accessibility\"] = (gdf_streets[\"accessibility\"] - min_val) / denominator\n",
    "\n",
    "\n",
    "# gdf_streets[\"accessibility\"] = (gdf_streets[\"accessibility\"] - gdf_streets[\"accessibility\"].min()) / (gdf_streets[\"accessibility\"].max() - gdf_streets[\"accessibility\"].min())\n",
    "\n",
    "gdf_streets = gdf_streets[[\"geometry\", \"accessibility\"]]\n",
    "\n",
    "gdf_streets.metadata = {\n",
    " 'name': 'street'\n",
    "}\n",
    "\n",
    "return gdf_streets"
   ]
  },
  {
   "cell_type": "code",
   "execution_count": null,
   "metadata": {},
   "outputs": [],
   "source": [
    "# Data transformation, creating a buffer around the streets\n",
    "\n",
    "import geopandas as gpd\n",
    "\n",
    "gdf_streets = arg.set_crs(3395)\n",
    "\n",
    "gdf_streets = gdf_streets.to_crs(epsg=3857)  # Web Mercator (meters)\n",
    "\n",
    "gdf_polygons = gdf_streets.copy()\n",
    "gdf_polygons[\"geometry\"] = gdf_polygons.geometry.buffer(5)\n",
    "\n",
    "gdf_polygons = gdf_polygons.to_crs(epsg=3395)  # WGS84 (lat/lon)\n",
    "\n",
    "gdf_polygons.metadata = {\n",
    " 'name': 'street'\n",
    "}\n",
    "\n",
    "return gdf_polygons"
   ]
  },
  {
   "cell_type": "code",
   "execution_count": null,
   "metadata": {},
   "outputs": [],
   "source": [
    "# UTK (connected to gdf_streets)"
   ]
  },
  {
   "cell_type": "code",
   "execution_count": null,
   "metadata": {},
   "outputs": [],
   "source": [
    "# Data pool"
   ]
  },
  {
   "cell_type": "code",
   "execution_count": null,
   "metadata": {},
   "outputs": [],
   "source": [
    "# Merge Flow of uncertainty score (points) and acessiblity score (street)"
   ]
  },
  {
   "cell_type": "code",
   "execution_count": null,
   "metadata": {},
   "outputs": [],
   "source": [
    "# Data tranformation (connect to previous Merge Flow)\n",
    "\n",
    "import geopandas as gpd\n",
    "from shapely.ops import nearest_points\n",
    "\n",
    "gdf_points = arg[0].set_crs(3395)\n",
    "gdf_streets = arg[1].set_crs(3395)\n",
    "\n",
    "gdf_streets = gdf_streets.sjoin_nearest(gdf_points[['geometry', 'uncertainty']], how=\"left\", distance_col=\"distance\")\n",
    "\n",
    "gdf_streets = gdf_streets[[\"geometry\", \"uncertainty\"]]\n",
    "\n",
    "# def find_nearest_linestring(point, lines_gdf):\n",
    "#     return lines_gdf.geometry.iloc[lines_gdf.geometry.distance(point).idxmin()]\n",
    "\n",
    "# # Associate each point with its nearest LineString\n",
    "# gdf_points['nearest_line'] = gdf_points.geometry.apply(lambda p: find_nearest_linestring(p, gdf_streets))\n",
    "\n",
    "# uncertainty_avg = gdf_points.groupby('nearest_line')['uncertainty'].mean()\n",
    "\n",
    "# gdf_streets['uncertainty'] = gdf_streets.geometry.map(lambda line: uncertainty_avg.get(line, 0))\n",
    "\n",
    "gdf_streets.metadata = {\n",
    " 'name': 'street'\n",
    "}\n",
    "\n",
    "return gdf_streets"
   ]
  },
  {
   "cell_type": "code",
   "execution_count": null,
   "metadata": {},
   "outputs": [],
   "source": [
    "# UTK (connected to gdf_streets)"
   ]
  },
  {
   "cell_type": "markdown",
   "metadata": {},
   "source": [
    "- Ask LLM to filter by a specific neighborhood\n",
    "- Add a barchart that shows accessibility by neighborhood and you can hover and get the highlight on the map\n",
    "- Add street network"
   ]
  }
 ],
 "metadata": {
  "kernelspec": {
   "display_name": "curio-sandbox-frontend",
   "language": "python",
   "name": "python3"
  },
  "language_info": {
   "codemirror_mode": {
    "name": "ipython",
    "version": 3
   },
   "file_extension": ".py",
   "mimetype": "text/x-python",
   "name": "python",
   "nbconvert_exporter": "python",
   "pygments_lexer": "ipython3",
   "version": "3.10.6"
  }
 },
 "nbformat": 4,
 "nbformat_minor": 2
}
